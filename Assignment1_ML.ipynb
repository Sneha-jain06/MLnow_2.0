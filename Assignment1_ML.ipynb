{
  "nbformat": 4,
  "nbformat_minor": 0,
  "metadata": {
    "colab": {
      "name": "Assignment1_ML.ipynb",
      "provenance": [],
      "authorship_tag": "ABX9TyPIRHVK2qvdjv53MMJDZMp4",
      "include_colab_link": true
    },
    "kernelspec": {
      "name": "python3",
      "display_name": "Python 3"
    },
    "language_info": {
      "name": "python"
    }
  },
  "cells": [
    {
      "cell_type": "markdown",
      "metadata": {
        "id": "view-in-github",
        "colab_type": "text"
      },
      "source": [
        "<a href=\"https://colab.research.google.com/github/Sneha-jain06/MLnow_2.0/blob/main/Assignment1_ML.ipynb\" target=\"_parent\"><img src=\"https://colab.research.google.com/assets/colab-badge.svg\" alt=\"Open In Colab\"/></a>"
      ]
    },
    {
      "cell_type": "markdown",
      "metadata": {
        "id": "5olML7xkxiY_"
      },
      "source": [
        "Name: Sneha jain\n",
        "###In this asssignment ,i have been using weight-height dataset. "
      ]
    },
    {
      "cell_type": "code",
      "metadata": {
        "id": "Z8qwcJV-gojn",
        "colab": {
          "base_uri": "https://localhost:8080/"
        },
        "outputId": "c26fc838-9e6a-4e23-c953-ae709301850f"
      },
      "source": [
        "from google.colab import drive\n",
        "drive.mount('/content/drive')"
      ],
      "execution_count": 2,
      "outputs": [
        {
          "output_type": "stream",
          "text": [
            "Mounted at /content/drive\n"
          ],
          "name": "stdout"
        }
      ]
    },
    {
      "cell_type": "code",
      "metadata": {
        "colab": {
          "base_uri": "https://localhost:8080/"
        },
        "id": "7HbO0uPDkjte",
        "outputId": "4dfa159a-8177-4aef-ad58-c8619b77ebdf"
      },
      "source": [
        "cd '/content/drive/MyDrive/ML/'"
      ],
      "execution_count": 4,
      "outputs": [
        {
          "output_type": "stream",
          "text": [
            "/content/drive/MyDrive/ML\n"
          ],
          "name": "stdout"
        }
      ]
    },
    {
      "cell_type": "code",
      "metadata": {
        "id": "y6qYW29glG_U"
      },
      "source": [
        "import pandas as pd\n",
        "import numpy as np\n",
        "import tensorflow as tf\n",
        "from tensorflow import keras"
      ],
      "execution_count": 5,
      "outputs": []
    },
    {
      "cell_type": "code",
      "metadata": {
        "colab": {
          "base_uri": "https://localhost:8080/"
        },
        "id": "RqYNibESlZje",
        "outputId": "413860d2-c660-497b-f9fb-6b424ef13ed5"
      },
      "source": [
        "data = pd.read_csv('weight-height.csv')\n",
        "print(data.head())"
      ],
      "execution_count": 6,
      "outputs": [
        {
          "output_type": "stream",
          "text": [
            "  Gender     Height      Weight\n",
            "0   Male  73.847017  241.893563\n",
            "1   Male  68.781904  162.310473\n",
            "2   Male  74.110105  212.740856\n",
            "3   Male  71.730978  220.042470\n",
            "4   Male  69.881796  206.349801\n"
          ],
          "name": "stdout"
        }
      ]
    },
    {
      "cell_type": "code",
      "metadata": {
        "colab": {
          "base_uri": "https://localhost:8080/"
        },
        "id": "w7GI5LLMlnzV",
        "outputId": "14bfd04a-146b-4808-d96e-8547ea221ca7"
      },
      "source": [
        "uniData = data[['Height','Weight']]\n",
        "print(uniData.head())"
      ],
      "execution_count": 13,
      "outputs": [
        {
          "output_type": "stream",
          "text": [
            "      Height      Weight\n",
            "0  73.847017  241.893563\n",
            "1  68.781904  162.310473\n",
            "2  74.110105  212.740856\n",
            "3  71.730978  220.042470\n",
            "4  69.881796  206.349801\n"
          ],
          "name": "stdout"
        }
      ]
    },
    {
      "cell_type": "code",
      "metadata": {
        "id": "EN7DNV25mQ48"
      },
      "source": [
        "uniData.to_csv('uniData.csv')"
      ],
      "execution_count": 14,
      "outputs": []
    },
    {
      "cell_type": "code",
      "metadata": {
        "colab": {
          "base_uri": "https://localhost:8080/"
        },
        "id": "XMytjc6EmeG8",
        "outputId": "c62e0ade-d0d4-4b39-da21-5878e8fb8f72"
      },
      "source": [
        "trainData = uniData.sample(frac= 0.8, random_state=0)\n",
        "testData = uniData.drop(trainData.index)\n",
        "\n",
        "print(trainData)\n",
        "print(testData)"
      ],
      "execution_count": 15,
      "outputs": [
        {
          "output_type": "stream",
          "text": [
            "         Height      Weight\n",
            "9394  64.723877  138.085796\n",
            "898   67.272171  187.363366\n",
            "2398  74.520972  216.533191\n",
            "5906  65.880014  131.761443\n",
            "2343  64.846301  157.718438\n",
            "...         ...         ...\n",
            "8673  62.193337  101.232045\n",
            "8175  61.735826  110.513242\n",
            "4933  69.613404  188.868778\n",
            "504   65.549121  178.448180\n",
            "107   66.253633  166.503532\n",
            "\n",
            "[8000 rows x 2 columns]\n",
            "         Height      Weight\n",
            "0     73.847017  241.893563\n",
            "13    69.283070  189.446181\n",
            "21    69.439440  197.731422\n",
            "25    68.144033  192.343977\n",
            "26    69.089631  184.435174\n",
            "...         ...         ...\n",
            "9963  61.671529  140.024792\n",
            "9969  68.202385  163.610847\n",
            "9972  60.653733  123.084293\n",
            "9982  69.868511  177.992066\n",
            "9995  66.172652  136.777454\n",
            "\n",
            "[2000 rows x 2 columns]\n"
          ],
          "name": "stdout"
        }
      ]
    },
    {
      "cell_type": "code",
      "metadata": {
        "id": "MXYf6WVSnaaM"
      },
      "source": [
        "trainFeatures =trainData.copy()\n",
        "testFeatures =testData.copy()\n",
        "\n",
        "\n",
        "\n"
      ],
      "execution_count": 16,
      "outputs": []
    },
    {
      "cell_type": "code",
      "metadata": {
        "colab": {
          "base_uri": "https://localhost:8080/"
        },
        "id": "uf7ST3Erny1X",
        "outputId": "b592453a-7aa6-4201-ca52-ee4f692f225c"
      },
      "source": [
        "trainlabels =trainFeatures.pop('Weight')\n",
        "testlabels =testFeatures.pop('Weight')\n",
        "\n",
        "print(trainlabels)\n",
        "\n",
        "print(testlabels)\n",
        "\n"
      ],
      "execution_count": 17,
      "outputs": [
        {
          "output_type": "stream",
          "text": [
            "<bound method NDFrame.head of 9394    138.085796\n",
            "898     187.363366\n",
            "2398    216.533191\n",
            "5906    131.761443\n",
            "2343    157.718438\n",
            "           ...    \n",
            "8673    101.232045\n",
            "8175    110.513242\n",
            "4933    188.868778\n",
            "504     178.448180\n",
            "107     166.503532\n",
            "Name: Weight, Length: 8000, dtype: float64>\n",
            "<bound method NDFrame.head of 0       241.893563\n",
            "13      189.446181\n",
            "21      197.731422\n",
            "25      192.343977\n",
            "26      184.435174\n",
            "           ...    \n",
            "9963    140.024792\n",
            "9969    163.610847\n",
            "9972    123.084293\n",
            "9982    177.992066\n",
            "9995    136.777454\n",
            "Name: Weight, Length: 2000, dtype: float64>\n"
          ],
          "name": "stdout"
        }
      ]
    },
    {
      "cell_type": "code",
      "metadata": {
        "colab": {
          "base_uri": "https://localhost:8080/"
        },
        "id": "JRpWBMltof7v",
        "outputId": "04eb432b-5c74-4a7f-e3f6-f782e82ffc6e"
      },
      "source": [
        "print(trainFeatures.shape)\n",
        "print(testFeatures.shape)"
      ],
      "execution_count": 18,
      "outputs": [
        {
          "output_type": "stream",
          "text": [
            "(8000, 1)\n",
            "(2000, 1)\n"
          ],
          "name": "stdout"
        }
      ]
    },
    {
      "cell_type": "code",
      "metadata": {
        "id": "-OtuWAh6pK_e"
      },
      "source": [
        "model= tf.keras.Sequential([tf.keras.layers.Dense(1)])"
      ],
      "execution_count": 20,
      "outputs": []
    },
    {
      "cell_type": "code",
      "metadata": {
        "id": "cwaCzHb5pd9b"
      },
      "source": [
        "model.compile(optimizer=tf.optimizers.Adam(0.001) , loss= 'mean_absolute_error', metrics=['mae','mse'])"
      ],
      "execution_count": 21,
      "outputs": []
    },
    {
      "cell_type": "code",
      "metadata": {
        "colab": {
          "base_uri": "https://localhost:8080/"
        },
        "id": "Nao4GH1gqHJH",
        "outputId": "804f79cb-a056-4111-c419-fced10aa7ce8"
      },
      "source": [
        " history =model.fit(x= trainFeatures, y=trainlabels , epochs = 200 , validation_data=(testFeatures, testlabels))"
      ],
      "execution_count": 22,
      "outputs": [
        {
          "output_type": "stream",
          "text": [
            "Epoch 1/200\n",
            "250/250 [==============================] - 1s 2ms/step - loss: 173.6597 - mae: 173.6597 - mse: 31275.6699 - val_loss: 165.4556 - val_mae: 165.4556 - val_mse: 28358.1895\n",
            "Epoch 2/200\n",
            "250/250 [==============================] - 0s 1ms/step - loss: 156.8209 - mae: 156.8209 - mse: 25644.8867 - val_loss: 148.6002 - val_mae: 148.6002 - val_mse: 23011.2324\n",
            "Epoch 3/200\n",
            "250/250 [==============================] - 0s 924us/step - loss: 139.9789 - mae: 139.9789 - mse: 20591.3633 - val_loss: 131.7542 - val_mae: 131.7542 - val_mse: 18236.7520\n",
            "Epoch 4/200\n",
            "250/250 [==============================] - 0s 933us/step - loss: 123.1389 - mae: 123.1389 - mse: 16106.5176 - val_loss: 114.9082 - val_mae: 114.9082 - val_mse: 14031.6230\n",
            "Epoch 5/200\n",
            "250/250 [==============================] - 0s 929us/step - loss: 106.3006 - mae: 106.3006 - mse: 12194.9053 - val_loss: 98.0595 - val_mae: 98.0595 - val_mse: 10395.2568\n",
            "Epoch 6/200\n",
            "250/250 [==============================] - 0s 1ms/step - loss: 89.4610 - mae: 89.4610 - mse: 8838.6260 - val_loss: 81.2131 - val_mae: 81.2131 - val_mse: 7328.7983\n",
            "Epoch 7/200\n",
            "250/250 [==============================] - 0s 1ms/step - loss: 72.6354 - mae: 72.6354 - mse: 6067.6792 - val_loss: 64.3934 - val_mae: 64.3934 - val_mse: 4833.9141\n",
            "Epoch 8/200\n",
            "250/250 [==============================] - 0s 964us/step - loss: 55.9361 - mae: 55.9361 - mse: 3866.4001 - val_loss: 47.9751 - val_mae: 47.9751 - val_mse: 2922.9097\n",
            "Epoch 9/200\n",
            "250/250 [==============================] - 0s 1ms/step - loss: 40.5556 - mae: 40.5556 - mse: 2275.4351 - val_loss: 34.1602 - val_mae: 34.1602 - val_mse: 1656.9575\n",
            "Epoch 10/200\n",
            "250/250 [==============================] - 0s 1ms/step - loss: 29.5864 - mae: 29.5864 - mse: 1323.4602 - val_loss: 25.7473 - val_mae: 25.7473 - val_mse: 994.6787\n",
            "Epoch 11/200\n",
            "250/250 [==============================] - 0s 963us/step - loss: 24.0373 - mae: 24.0373 - mse: 872.6890 - val_loss: 22.0187 - val_mae: 22.0187 - val_mse: 711.0236\n",
            "Epoch 12/200\n",
            "250/250 [==============================] - 0s 1ms/step - loss: 21.8206 - mae: 21.8206 - mse: 685.9611 - val_loss: 20.5287 - val_mae: 20.5287 - val_mse: 596.7581\n",
            "Epoch 13/200\n",
            "250/250 [==============================] - 0s 1ms/step - loss: 20.9429 - mae: 20.9429 - mse: 614.7095 - val_loss: 19.9037 - val_mae: 19.9037 - val_mse: 552.0178\n",
            "Epoch 14/200\n",
            "250/250 [==============================] - 0s 1ms/step - loss: 20.6093 - mae: 20.6093 - mse: 585.9350 - val_loss: 19.6562 - val_mae: 19.6562 - val_mse: 537.5627\n",
            "Epoch 15/200\n",
            "250/250 [==============================] - 0s 1ms/step - loss: 20.4995 - mae: 20.4995 - mse: 577.8322 - val_loss: 19.5657 - val_mae: 19.5657 - val_mse: 533.5731\n",
            "Epoch 16/200\n",
            "250/250 [==============================] - 0s 1ms/step - loss: 20.4742 - mae: 20.4742 - mse: 576.3682 - val_loss: 19.5418 - val_mae: 19.5418 - val_mse: 533.0406\n",
            "Epoch 17/200\n",
            "250/250 [==============================] - 0s 881us/step - loss: 20.4669 - mae: 20.4669 - mse: 576.1242 - val_loss: 19.5262 - val_mae: 19.5262 - val_mse: 533.0002\n",
            "Epoch 18/200\n",
            "250/250 [==============================] - 0s 908us/step - loss: 20.4628 - mae: 20.4628 - mse: 576.0264 - val_loss: 19.5193 - val_mae: 19.5193 - val_mse: 533.0643\n",
            "Epoch 19/200\n",
            "250/250 [==============================] - 0s 1ms/step - loss: 20.4629 - mae: 20.4629 - mse: 576.2260 - val_loss: 19.5149 - val_mae: 19.5149 - val_mse: 533.1281\n",
            "Epoch 20/200\n",
            "250/250 [==============================] - 0s 907us/step - loss: 20.4621 - mae: 20.4621 - mse: 576.2146 - val_loss: 19.5178 - val_mae: 19.5178 - val_mse: 532.8937\n",
            "Epoch 21/200\n",
            "250/250 [==============================] - 0s 1ms/step - loss: 20.4598 - mae: 20.4598 - mse: 576.3445 - val_loss: 19.5251 - val_mae: 19.5251 - val_mse: 532.6819\n",
            "Epoch 22/200\n",
            "250/250 [==============================] - 0s 922us/step - loss: 20.4592 - mae: 20.4592 - mse: 575.9207 - val_loss: 19.5201 - val_mae: 19.5201 - val_mse: 532.6284\n",
            "Epoch 23/200\n",
            "250/250 [==============================] - 0s 1ms/step - loss: 20.4581 - mae: 20.4581 - mse: 575.9302 - val_loss: 19.5192 - val_mae: 19.5192 - val_mse: 532.5292\n",
            "Epoch 24/200\n",
            "250/250 [==============================] - 0s 1ms/step - loss: 20.4597 - mae: 20.4597 - mse: 576.1453 - val_loss: 19.5134 - val_mae: 19.5134 - val_mse: 532.4960\n",
            "Epoch 25/200\n",
            "250/250 [==============================] - 0s 1ms/step - loss: 20.4555 - mae: 20.4555 - mse: 575.7119 - val_loss: 19.5108 - val_mae: 19.5108 - val_mse: 532.4089\n",
            "Epoch 26/200\n",
            "250/250 [==============================] - 0s 1ms/step - loss: 20.4517 - mae: 20.4517 - mse: 575.6476 - val_loss: 19.5163 - val_mae: 19.5163 - val_mse: 532.2040\n",
            "Epoch 27/200\n",
            "250/250 [==============================] - 0s 1ms/step - loss: 20.4495 - mae: 20.4495 - mse: 575.3262 - val_loss: 19.5052 - val_mae: 19.5052 - val_mse: 532.2354\n",
            "Epoch 28/200\n",
            "250/250 [==============================] - 0s 1ms/step - loss: 20.4468 - mae: 20.4468 - mse: 575.1251 - val_loss: 19.4952 - val_mae: 19.4952 - val_mse: 532.5657\n",
            "Epoch 29/200\n",
            "250/250 [==============================] - 0s 995us/step - loss: 20.4464 - mae: 20.4464 - mse: 575.4142 - val_loss: 19.5008 - val_mae: 19.5008 - val_mse: 532.0049\n",
            "Epoch 30/200\n",
            "250/250 [==============================] - 0s 943us/step - loss: 20.4436 - mae: 20.4436 - mse: 575.2688 - val_loss: 19.5120 - val_mae: 19.5120 - val_mse: 531.7305\n",
            "Epoch 31/200\n",
            "250/250 [==============================] - 0s 965us/step - loss: 20.4413 - mae: 20.4413 - mse: 575.0097 - val_loss: 19.5056 - val_mae: 19.5056 - val_mse: 531.6150\n",
            "Epoch 32/200\n",
            "250/250 [==============================] - 0s 877us/step - loss: 20.4398 - mae: 20.4398 - mse: 574.7048 - val_loss: 19.5020 - val_mae: 19.5020 - val_mse: 531.4994\n",
            "Epoch 33/200\n",
            "250/250 [==============================] - 0s 1ms/step - loss: 20.4355 - mae: 20.4355 - mse: 574.6796 - val_loss: 19.4899 - val_mae: 19.4899 - val_mse: 531.5655\n",
            "Epoch 34/200\n",
            "250/250 [==============================] - 0s 1ms/step - loss: 20.4381 - mae: 20.4381 - mse: 574.9202 - val_loss: 19.4852 - val_mae: 19.4852 - val_mse: 531.5436\n",
            "Epoch 35/200\n",
            "250/250 [==============================] - 0s 1ms/step - loss: 20.4330 - mae: 20.4330 - mse: 574.5811 - val_loss: 19.4882 - val_mae: 19.4882 - val_mse: 531.2206\n",
            "Epoch 36/200\n",
            "250/250 [==============================] - 0s 1ms/step - loss: 20.4283 - mae: 20.4283 - mse: 574.3766 - val_loss: 19.4876 - val_mae: 19.4876 - val_mse: 531.0580\n",
            "Epoch 37/200\n",
            "250/250 [==============================] - 0s 1ms/step - loss: 20.4256 - mae: 20.4256 - mse: 574.1633 - val_loss: 19.4908 - val_mae: 19.4908 - val_mse: 530.8593\n",
            "Epoch 38/200\n",
            "250/250 [==============================] - 0s 1ms/step - loss: 20.4231 - mae: 20.4231 - mse: 574.1849 - val_loss: 19.4942 - val_mae: 19.4942 - val_mse: 530.7198\n",
            "Epoch 39/200\n",
            "250/250 [==============================] - 0s 1ms/step - loss: 20.4258 - mae: 20.4258 - mse: 573.8749 - val_loss: 19.4918 - val_mae: 19.4918 - val_mse: 530.5930\n",
            "Epoch 40/200\n",
            "250/250 [==============================] - 0s 1ms/step - loss: 20.4205 - mae: 20.4205 - mse: 573.6687 - val_loss: 19.4731 - val_mae: 19.4731 - val_mse: 530.6874\n",
            "Epoch 41/200\n",
            "250/250 [==============================] - 0s 936us/step - loss: 20.4154 - mae: 20.4154 - mse: 573.6805 - val_loss: 19.4768 - val_mae: 19.4768 - val_mse: 530.4008\n",
            "Epoch 42/200\n",
            "250/250 [==============================] - 0s 1ms/step - loss: 20.4177 - mae: 20.4177 - mse: 573.5881 - val_loss: 19.4667 - val_mae: 19.4667 - val_mse: 530.5040\n",
            "Epoch 43/200\n",
            "250/250 [==============================] - 0s 958us/step - loss: 20.4152 - mae: 20.4152 - mse: 573.6418 - val_loss: 19.4778 - val_mae: 19.4778 - val_mse: 530.0840\n",
            "Epoch 44/200\n",
            "250/250 [==============================] - 0s 1ms/step - loss: 20.4083 - mae: 20.4083 - mse: 573.3278 - val_loss: 19.4805 - val_mae: 19.4805 - val_mse: 529.9519\n",
            "Epoch 45/200\n",
            "250/250 [==============================] - 0s 1ms/step - loss: 20.4150 - mae: 20.4150 - mse: 573.1898 - val_loss: 19.4705 - val_mae: 19.4705 - val_mse: 529.8460\n",
            "Epoch 46/200\n",
            "250/250 [==============================] - 0s 1ms/step - loss: 20.4059 - mae: 20.4059 - mse: 573.1072 - val_loss: 19.4723 - val_mae: 19.4723 - val_mse: 529.6943\n",
            "Epoch 47/200\n",
            "250/250 [==============================] - 0s 980us/step - loss: 20.4043 - mae: 20.4043 - mse: 572.7749 - val_loss: 19.4639 - val_mae: 19.4639 - val_mse: 529.6124\n",
            "Epoch 48/200\n",
            "250/250 [==============================] - 0s 1ms/step - loss: 20.4028 - mae: 20.4028 - mse: 572.8592 - val_loss: 19.4636 - val_mae: 19.4636 - val_mse: 529.4618\n",
            "Epoch 49/200\n",
            "250/250 [==============================] - 0s 1ms/step - loss: 20.3989 - mae: 20.3989 - mse: 572.4591 - val_loss: 19.4547 - val_mae: 19.4547 - val_mse: 529.4420\n",
            "Epoch 50/200\n",
            "250/250 [==============================] - 0s 1ms/step - loss: 20.3946 - mae: 20.3946 - mse: 572.3911 - val_loss: 19.4500 - val_mae: 19.4500 - val_mse: 529.3831\n",
            "Epoch 51/200\n",
            "250/250 [==============================] - 0s 1ms/step - loss: 20.3925 - mae: 20.3925 - mse: 572.3539 - val_loss: 19.4534 - val_mae: 19.4534 - val_mse: 529.1111\n",
            "Epoch 52/200\n",
            "250/250 [==============================] - 0s 1ms/step - loss: 20.3911 - mae: 20.3911 - mse: 572.1292 - val_loss: 19.4593 - val_mae: 19.4593 - val_mse: 528.9216\n",
            "Epoch 53/200\n",
            "250/250 [==============================] - 0s 2ms/step - loss: 20.3870 - mae: 20.3870 - mse: 572.0434 - val_loss: 19.4598 - val_mae: 19.4598 - val_mse: 528.7979\n",
            "Epoch 54/200\n",
            "250/250 [==============================] - 0s 1ms/step - loss: 20.3854 - mae: 20.3854 - mse: 571.8289 - val_loss: 19.4426 - val_mae: 19.4426 - val_mse: 528.7953\n",
            "Epoch 55/200\n",
            "250/250 [==============================] - 0s 1ms/step - loss: 20.3833 - mae: 20.3833 - mse: 571.7763 - val_loss: 19.4415 - val_mae: 19.4415 - val_mse: 528.6375\n",
            "Epoch 56/200\n",
            "250/250 [==============================] - 0s 1ms/step - loss: 20.3796 - mae: 20.3796 - mse: 571.4637 - val_loss: 19.4374 - val_mae: 19.4374 - val_mse: 528.5488\n",
            "Epoch 57/200\n",
            "250/250 [==============================] - 0s 1ms/step - loss: 20.3775 - mae: 20.3775 - mse: 571.5066 - val_loss: 19.4312 - val_mae: 19.4312 - val_mse: 528.5726\n",
            "Epoch 58/200\n",
            "250/250 [==============================] - 0s 2ms/step - loss: 20.3770 - mae: 20.3770 - mse: 571.4897 - val_loss: 19.4339 - val_mae: 19.4339 - val_mse: 528.2622\n",
            "Epoch 59/200\n",
            "250/250 [==============================] - 0s 1ms/step - loss: 20.3744 - mae: 20.3744 - mse: 571.2460 - val_loss: 19.4365 - val_mae: 19.4365 - val_mse: 528.0540\n",
            "Epoch 60/200\n",
            "250/250 [==============================] - 0s 1ms/step - loss: 20.3697 - mae: 20.3697 - mse: 570.8963 - val_loss: 19.4293 - val_mae: 19.4293 - val_mse: 528.0002\n",
            "Epoch 61/200\n",
            "250/250 [==============================] - 0s 1ms/step - loss: 20.3669 - mae: 20.3669 - mse: 570.7625 - val_loss: 19.4171 - val_mae: 19.4171 - val_mse: 528.3997\n",
            "Epoch 62/200\n",
            "250/250 [==============================] - 0s 1ms/step - loss: 20.3656 - mae: 20.3656 - mse: 570.8389 - val_loss: 19.4151 - val_mae: 19.4151 - val_mse: 528.2286\n",
            "Epoch 63/200\n",
            "250/250 [==============================] - 0s 1ms/step - loss: 20.3625 - mae: 20.3625 - mse: 570.7860 - val_loss: 19.4245 - val_mae: 19.4245 - val_mse: 527.5725\n",
            "Epoch 64/200\n",
            "250/250 [==============================] - 0s 1ms/step - loss: 20.3598 - mae: 20.3598 - mse: 570.4048 - val_loss: 19.4132 - val_mae: 19.4132 - val_mse: 527.7525\n",
            "Epoch 65/200\n",
            "250/250 [==============================] - 0s 1ms/step - loss: 20.3574 - mae: 20.3574 - mse: 570.3099 - val_loss: 19.4152 - val_mae: 19.4152 - val_mse: 527.4264\n",
            "Epoch 66/200\n",
            "250/250 [==============================] - 0s 962us/step - loss: 20.3558 - mae: 20.3558 - mse: 570.1074 - val_loss: 19.4118 - val_mae: 19.4118 - val_mse: 527.3342\n",
            "Epoch 67/200\n",
            "250/250 [==============================] - 0s 1ms/step - loss: 20.3529 - mae: 20.3529 - mse: 570.1424 - val_loss: 19.4069 - val_mae: 19.4069 - val_mse: 527.3299\n",
            "Epoch 68/200\n",
            "250/250 [==============================] - 0s 1ms/step - loss: 20.3509 - mae: 20.3509 - mse: 569.9381 - val_loss: 19.4088 - val_mae: 19.4088 - val_mse: 527.0240\n",
            "Epoch 69/200\n",
            "250/250 [==============================] - 0s 1ms/step - loss: 20.3482 - mae: 20.3482 - mse: 569.8002 - val_loss: 19.4076 - val_mae: 19.4076 - val_mse: 526.8640\n",
            "Epoch 70/200\n",
            "250/250 [==============================] - 0s 1ms/step - loss: 20.3429 - mae: 20.3429 - mse: 569.6768 - val_loss: 19.4175 - val_mae: 19.4175 - val_mse: 526.6199\n",
            "Epoch 71/200\n",
            "250/250 [==============================] - 0s 2ms/step - loss: 20.3413 - mae: 20.3413 - mse: 569.5038 - val_loss: 19.3947 - val_mae: 19.3947 - val_mse: 527.0213\n",
            "Epoch 72/200\n",
            "250/250 [==============================] - 0s 957us/step - loss: 20.3413 - mae: 20.3413 - mse: 569.3474 - val_loss: 19.3977 - val_mae: 19.3977 - val_mse: 526.5726\n",
            "Epoch 73/200\n",
            "250/250 [==============================] - 0s 1ms/step - loss: 20.3371 - mae: 20.3371 - mse: 569.1465 - val_loss: 19.3963 - val_mae: 19.3963 - val_mse: 526.4106\n",
            "Epoch 74/200\n",
            "250/250 [==============================] - 0s 1ms/step - loss: 20.3361 - mae: 20.3361 - mse: 569.3618 - val_loss: 19.4109 - val_mae: 19.4109 - val_mse: 526.1224\n",
            "Epoch 75/200\n",
            "250/250 [==============================] - 0s 961us/step - loss: 20.3328 - mae: 20.3328 - mse: 569.0046 - val_loss: 19.4045 - val_mae: 19.4045 - val_mse: 525.9847\n",
            "Epoch 76/200\n",
            "250/250 [==============================] - 0s 1ms/step - loss: 20.3306 - mae: 20.3306 - mse: 568.7831 - val_loss: 19.4095 - val_mae: 19.4095 - val_mse: 525.8920\n",
            "Epoch 77/200\n",
            "250/250 [==============================] - 0s 1ms/step - loss: 20.3299 - mae: 20.3299 - mse: 568.6692 - val_loss: 19.3917 - val_mae: 19.3917 - val_mse: 525.7875\n",
            "Epoch 78/200\n",
            "250/250 [==============================] - 0s 1ms/step - loss: 20.3269 - mae: 20.3269 - mse: 568.4724 - val_loss: 19.3871 - val_mae: 19.3871 - val_mse: 525.7049\n",
            "Epoch 79/200\n",
            "250/250 [==============================] - 0s 1ms/step - loss: 20.3228 - mae: 20.3228 - mse: 568.3433 - val_loss: 19.3857 - val_mae: 19.3857 - val_mse: 525.5602\n",
            "Epoch 80/200\n",
            "250/250 [==============================] - 0s 1ms/step - loss: 20.3193 - mae: 20.3193 - mse: 568.0186 - val_loss: 19.3767 - val_mae: 19.3767 - val_mse: 525.6601\n",
            "Epoch 81/200\n",
            "250/250 [==============================] - 0s 1ms/step - loss: 20.3150 - mae: 20.3150 - mse: 568.3339 - val_loss: 19.3982 - val_mae: 19.3982 - val_mse: 525.2666\n",
            "Epoch 82/200\n",
            "250/250 [==============================] - 0s 1ms/step - loss: 20.3133 - mae: 20.3133 - mse: 567.7457 - val_loss: 19.3706 - val_mae: 19.3706 - val_mse: 525.4931\n",
            "Epoch 83/200\n",
            "250/250 [==============================] - 0s 1ms/step - loss: 20.3160 - mae: 20.3160 - mse: 568.0146 - val_loss: 19.3713 - val_mae: 19.3713 - val_mse: 525.2053\n",
            "Epoch 84/200\n",
            "250/250 [==============================] - 0s 977us/step - loss: 20.3111 - mae: 20.3111 - mse: 567.9758 - val_loss: 19.3784 - val_mae: 19.3784 - val_mse: 524.8716\n",
            "Epoch 85/200\n",
            "250/250 [==============================] - 0s 1ms/step - loss: 20.3085 - mae: 20.3085 - mse: 567.5428 - val_loss: 19.3637 - val_mae: 19.3637 - val_mse: 525.1091\n",
            "Epoch 86/200\n",
            "250/250 [==============================] - 0s 1ms/step - loss: 20.3058 - mae: 20.3058 - mse: 567.3071 - val_loss: 19.3632 - val_mae: 19.3632 - val_mse: 524.8746\n",
            "Epoch 87/200\n",
            "250/250 [==============================] - 0s 1ms/step - loss: 20.3040 - mae: 20.3040 - mse: 567.7697 - val_loss: 19.3654 - val_mae: 19.3654 - val_mse: 524.5840\n",
            "Epoch 88/200\n",
            "250/250 [==============================] - 0s 1ms/step - loss: 20.3008 - mae: 20.3008 - mse: 567.0397 - val_loss: 19.3685 - val_mae: 19.3685 - val_mse: 524.3716\n",
            "Epoch 89/200\n",
            "250/250 [==============================] - 0s 2ms/step - loss: 20.2979 - mae: 20.2979 - mse: 567.1137 - val_loss: 19.3652 - val_mae: 19.3652 - val_mse: 524.2538\n",
            "Epoch 90/200\n",
            "250/250 [==============================] - 0s 1ms/step - loss: 20.2966 - mae: 20.2966 - mse: 566.8918 - val_loss: 19.3569 - val_mae: 19.3569 - val_mse: 524.2434\n",
            "Epoch 91/200\n",
            "250/250 [==============================] - 0s 1ms/step - loss: 20.2919 - mae: 20.2919 - mse: 566.6452 - val_loss: 19.3536 - val_mae: 19.3536 - val_mse: 524.1438\n",
            "Epoch 92/200\n",
            "250/250 [==============================] - 0s 963us/step - loss: 20.2918 - mae: 20.2918 - mse: 566.6123 - val_loss: 19.3515 - val_mae: 19.3515 - val_mse: 524.0076\n",
            "Epoch 93/200\n",
            "250/250 [==============================] - 0s 1ms/step - loss: 20.2887 - mae: 20.2887 - mse: 566.3876 - val_loss: 19.3461 - val_mae: 19.3461 - val_mse: 524.0154\n",
            "Epoch 94/200\n",
            "250/250 [==============================] - 0s 1ms/step - loss: 20.2850 - mae: 20.2850 - mse: 566.1994 - val_loss: 19.3392 - val_mae: 19.3392 - val_mse: 524.2454\n",
            "Epoch 95/200\n",
            "250/250 [==============================] - 0s 1ms/step - loss: 20.2841 - mae: 20.2841 - mse: 566.4409 - val_loss: 19.3518 - val_mae: 19.3518 - val_mse: 523.4860\n",
            "Epoch 96/200\n",
            "250/250 [==============================] - 0s 974us/step - loss: 20.2801 - mae: 20.2801 - mse: 565.9366 - val_loss: 19.3367 - val_mae: 19.3367 - val_mse: 523.7958\n",
            "Epoch 97/200\n",
            "250/250 [==============================] - 0s 1ms/step - loss: 20.2782 - mae: 20.2782 - mse: 566.0089 - val_loss: 19.3396 - val_mae: 19.3396 - val_mse: 523.3909\n",
            "Epoch 98/200\n",
            "250/250 [==============================] - 0s 1ms/step - loss: 20.2764 - mae: 20.2764 - mse: 565.7897 - val_loss: 19.3442 - val_mae: 19.3442 - val_mse: 523.1158\n",
            "Epoch 99/200\n",
            "250/250 [==============================] - 0s 1ms/step - loss: 20.2744 - mae: 20.2744 - mse: 565.6805 - val_loss: 19.3376 - val_mae: 19.3376 - val_mse: 523.0594\n",
            "Epoch 100/200\n",
            "250/250 [==============================] - 0s 1ms/step - loss: 20.2708 - mae: 20.2708 - mse: 565.4795 - val_loss: 19.3342 - val_mae: 19.3342 - val_mse: 522.9568\n",
            "Epoch 101/200\n",
            "250/250 [==============================] - 0s 1ms/step - loss: 20.2701 - mae: 20.2701 - mse: 565.1458 - val_loss: 19.3273 - val_mae: 19.3273 - val_mse: 523.0115\n",
            "Epoch 102/200\n",
            "250/250 [==============================] - 0s 1ms/step - loss: 20.2679 - mae: 20.2679 - mse: 565.6126 - val_loss: 19.3367 - val_mae: 19.3367 - val_mse: 522.5901\n",
            "Epoch 103/200\n",
            "250/250 [==============================] - 0s 1ms/step - loss: 20.2650 - mae: 20.2650 - mse: 565.3725 - val_loss: 19.3289 - val_mae: 19.3289 - val_mse: 522.5377\n",
            "Epoch 104/200\n",
            "250/250 [==============================] - 0s 1ms/step - loss: 20.2648 - mae: 20.2648 - mse: 564.9807 - val_loss: 19.3350 - val_mae: 19.3350 - val_mse: 522.3231\n",
            "Epoch 105/200\n",
            "250/250 [==============================] - 0s 1ms/step - loss: 20.2590 - mae: 20.2590 - mse: 564.8253 - val_loss: 19.3189 - val_mae: 19.3189 - val_mse: 522.4569\n",
            "Epoch 106/200\n",
            "250/250 [==============================] - 0s 1ms/step - loss: 20.2534 - mae: 20.2534 - mse: 564.9372 - val_loss: 19.3475 - val_mae: 19.3475 - val_mse: 522.2304\n",
            "Epoch 107/200\n",
            "250/250 [==============================] - 0s 1ms/step - loss: 20.2535 - mae: 20.2535 - mse: 564.2828 - val_loss: 19.3148 - val_mae: 19.3148 - val_mse: 522.1806\n",
            "Epoch 108/200\n",
            "250/250 [==============================] - 0s 1ms/step - loss: 20.2499 - mae: 20.2499 - mse: 564.9067 - val_loss: 19.3319 - val_mae: 19.3319 - val_mse: 521.8329\n",
            "Epoch 109/200\n",
            "250/250 [==============================] - 0s 1ms/step - loss: 20.2501 - mae: 20.2501 - mse: 564.1881 - val_loss: 19.3147 - val_mae: 19.3147 - val_mse: 521.7825\n",
            "Epoch 110/200\n",
            "250/250 [==============================] - 0s 1ms/step - loss: 20.2474 - mae: 20.2474 - mse: 564.2085 - val_loss: 19.3129 - val_mae: 19.3129 - val_mse: 521.6437\n",
            "Epoch 111/200\n",
            "250/250 [==============================] - 0s 1ms/step - loss: 20.2439 - mae: 20.2439 - mse: 564.0826 - val_loss: 19.3094 - val_mae: 19.3094 - val_mse: 521.5424\n",
            "Epoch 112/200\n",
            "250/250 [==============================] - 0s 1ms/step - loss: 20.2398 - mae: 20.2398 - mse: 563.5904 - val_loss: 19.2982 - val_mae: 19.2982 - val_mse: 521.8470\n",
            "Epoch 113/200\n",
            "250/250 [==============================] - 0s 985us/step - loss: 20.2410 - mae: 20.2410 - mse: 563.9520 - val_loss: 19.2978 - val_mae: 19.2978 - val_mse: 521.5629\n",
            "Epoch 114/200\n",
            "250/250 [==============================] - 0s 1ms/step - loss: 20.2370 - mae: 20.2370 - mse: 563.6331 - val_loss: 19.2975 - val_mae: 19.2975 - val_mse: 521.3202\n",
            "Epoch 115/200\n",
            "250/250 [==============================] - 0s 1ms/step - loss: 20.2327 - mae: 20.2327 - mse: 563.3706 - val_loss: 19.3021 - val_mae: 19.3021 - val_mse: 520.9860\n",
            "Epoch 116/200\n",
            "250/250 [==============================] - 0s 1ms/step - loss: 20.2318 - mae: 20.2318 - mse: 563.3026 - val_loss: 19.2930 - val_mae: 19.2930 - val_mse: 521.0496\n",
            "Epoch 117/200\n",
            "250/250 [==============================] - 0s 1ms/step - loss: 20.2303 - mae: 20.2303 - mse: 563.2400 - val_loss: 19.2993 - val_mae: 19.2993 - val_mse: 520.7001\n",
            "Epoch 118/200\n",
            "250/250 [==============================] - 0s 1ms/step - loss: 20.2274 - mae: 20.2274 - mse: 563.1681 - val_loss: 19.2924 - val_mae: 19.2924 - val_mse: 520.6492\n",
            "Epoch 119/200\n",
            "250/250 [==============================] - 0s 967us/step - loss: 20.2252 - mae: 20.2252 - mse: 562.8317 - val_loss: 19.2928 - val_mae: 19.2928 - val_mse: 520.4668\n",
            "Epoch 120/200\n",
            "250/250 [==============================] - 0s 1ms/step - loss: 20.2203 - mae: 20.2203 - mse: 562.6940 - val_loss: 19.2812 - val_mae: 19.2812 - val_mse: 520.6530\n",
            "Epoch 121/200\n",
            "250/250 [==============================] - 0s 1ms/step - loss: 20.2195 - mae: 20.2195 - mse: 562.7746 - val_loss: 19.2942 - val_mae: 19.2942 - val_mse: 520.1581\n",
            "Epoch 122/200\n",
            "250/250 [==============================] - 0s 1ms/step - loss: 20.2147 - mae: 20.2147 - mse: 562.4991 - val_loss: 19.2940 - val_mae: 19.2940 - val_mse: 520.0298\n",
            "Epoch 123/200\n",
            "250/250 [==============================] - 0s 1ms/step - loss: 20.2149 - mae: 20.2149 - mse: 562.0354 - val_loss: 19.2719 - val_mae: 19.2719 - val_mse: 520.4512\n",
            "Epoch 124/200\n",
            "250/250 [==============================] - 0s 1ms/step - loss: 20.2108 - mae: 20.2108 - mse: 562.4797 - val_loss: 19.2984 - val_mae: 19.2984 - val_mse: 519.8390\n",
            "Epoch 125/200\n",
            "250/250 [==============================] - 0s 1ms/step - loss: 20.2096 - mae: 20.2096 - mse: 561.8723 - val_loss: 19.2695 - val_mae: 19.2695 - val_mse: 520.0207\n",
            "Epoch 126/200\n",
            "250/250 [==============================] - 0s 1ms/step - loss: 20.2101 - mae: 20.2101 - mse: 562.1387 - val_loss: 19.2675 - val_mae: 19.2675 - val_mse: 519.8785\n",
            "Epoch 127/200\n",
            "250/250 [==============================] - 0s 1ms/step - loss: 20.2048 - mae: 20.2048 - mse: 561.8623 - val_loss: 19.2729 - val_mae: 19.2729 - val_mse: 519.4783\n",
            "Epoch 128/200\n",
            "250/250 [==============================] - 0s 1ms/step - loss: 20.2014 - mae: 20.2014 - mse: 561.8830 - val_loss: 19.2766 - val_mae: 19.2766 - val_mse: 519.2842\n",
            "Epoch 129/200\n",
            "250/250 [==============================] - 0s 1ms/step - loss: 20.2001 - mae: 20.2001 - mse: 561.5323 - val_loss: 19.2757 - val_mae: 19.2757 - val_mse: 519.1509\n",
            "Epoch 130/200\n",
            "250/250 [==============================] - 0s 1ms/step - loss: 20.1980 - mae: 20.1980 - mse: 561.4377 - val_loss: 19.2730 - val_mae: 19.2730 - val_mse: 519.0250\n",
            "Epoch 131/200\n",
            "250/250 [==============================] - 0s 983us/step - loss: 20.1938 - mae: 20.1938 - mse: 561.3813 - val_loss: 19.2657 - val_mae: 19.2657 - val_mse: 518.9372\n",
            "Epoch 132/200\n",
            "250/250 [==============================] - 0s 1ms/step - loss: 20.1927 - mae: 20.1927 - mse: 561.0894 - val_loss: 19.2535 - val_mae: 19.2535 - val_mse: 519.1119\n",
            "Epoch 133/200\n",
            "250/250 [==============================] - 0s 1ms/step - loss: 20.1893 - mae: 20.1893 - mse: 560.9985 - val_loss: 19.2563 - val_mae: 19.2563 - val_mse: 518.7755\n",
            "Epoch 134/200\n",
            "250/250 [==============================] - 0s 1ms/step - loss: 20.1883 - mae: 20.1883 - mse: 560.8207 - val_loss: 19.2453 - val_mae: 19.2453 - val_mse: 519.1369\n",
            "Epoch 135/200\n",
            "250/250 [==============================] - 0s 1ms/step - loss: 20.1882 - mae: 20.1882 - mse: 561.0771 - val_loss: 19.2455 - val_mae: 19.2455 - val_mse: 518.7975\n",
            "Epoch 136/200\n",
            "250/250 [==============================] - 0s 1ms/step - loss: 20.1826 - mae: 20.1826 - mse: 560.7526 - val_loss: 19.2510 - val_mae: 19.2510 - val_mse: 518.3608\n",
            "Epoch 137/200\n",
            "250/250 [==============================] - 0s 1ms/step - loss: 20.1790 - mae: 20.1790 - mse: 560.4867 - val_loss: 19.2447 - val_mae: 19.2447 - val_mse: 518.3434\n",
            "Epoch 138/200\n",
            "250/250 [==============================] - 0s 1ms/step - loss: 20.1750 - mae: 20.1750 - mse: 560.0602 - val_loss: 19.2360 - val_mae: 19.2360 - val_mse: 518.6213\n",
            "Epoch 139/200\n",
            "250/250 [==============================] - 0s 1ms/step - loss: 20.1774 - mae: 20.1774 - mse: 560.5403 - val_loss: 19.2426 - val_mae: 19.2426 - val_mse: 518.0103\n",
            "Epoch 140/200\n",
            "250/250 [==============================] - 0s 2ms/step - loss: 20.1726 - mae: 20.1726 - mse: 559.9992 - val_loss: 19.2345 - val_mae: 19.2345 - val_mse: 518.1131\n",
            "Epoch 141/200\n",
            "250/250 [==============================] - 0s 1ms/step - loss: 20.1688 - mae: 20.1688 - mse: 559.9316 - val_loss: 19.2337 - val_mae: 19.2337 - val_mse: 517.9022\n",
            "Epoch 142/200\n",
            "250/250 [==============================] - 0s 946us/step - loss: 20.1667 - mae: 20.1667 - mse: 559.8043 - val_loss: 19.2326 - val_mae: 19.2326 - val_mse: 517.7153\n",
            "Epoch 143/200\n",
            "250/250 [==============================] - 0s 1ms/step - loss: 20.1610 - mae: 20.1610 - mse: 559.4006 - val_loss: 19.2206 - val_mae: 19.2206 - val_mse: 518.4553\n",
            "Epoch 144/200\n",
            "250/250 [==============================] - 0s 998us/step - loss: 20.1643 - mae: 20.1643 - mse: 560.0501 - val_loss: 19.2328 - val_mae: 19.2328 - val_mse: 517.3224\n",
            "Epoch 145/200\n",
            "250/250 [==============================] - 0s 1ms/step - loss: 20.1591 - mae: 20.1591 - mse: 559.4453 - val_loss: 19.2372 - val_mae: 19.2372 - val_mse: 517.1220\n",
            "Epoch 146/200\n",
            "250/250 [==============================] - 0s 1ms/step - loss: 20.1578 - mae: 20.1578 - mse: 559.2263 - val_loss: 19.2378 - val_mae: 19.2378 - val_mse: 516.9901\n",
            "Epoch 147/200\n",
            "250/250 [==============================] - 0s 1ms/step - loss: 20.1545 - mae: 20.1545 - mse: 559.0041 - val_loss: 19.2184 - val_mae: 19.2184 - val_mse: 517.1658\n",
            "Epoch 148/200\n",
            "250/250 [==============================] - 0s 1ms/step - loss: 20.1526 - mae: 20.1526 - mse: 558.8995 - val_loss: 19.2170 - val_mae: 19.2170 - val_mse: 516.9910\n",
            "Epoch 149/200\n",
            "250/250 [==============================] - 0s 1ms/step - loss: 20.1513 - mae: 20.1513 - mse: 558.8563 - val_loss: 19.2201 - val_mae: 19.2201 - val_mse: 516.6998\n",
            "Epoch 150/200\n",
            "250/250 [==============================] - 0s 1ms/step - loss: 20.1477 - mae: 20.1477 - mse: 558.8020 - val_loss: 19.2172 - val_mae: 19.2172 - val_mse: 516.5894\n",
            "Epoch 151/200\n",
            "250/250 [==============================] - 0s 1ms/step - loss: 20.1465 - mae: 20.1465 - mse: 558.6855 - val_loss: 19.2265 - val_mae: 19.2265 - val_mse: 516.3641\n",
            "Epoch 152/200\n",
            "250/250 [==============================] - 0s 1ms/step - loss: 20.1407 - mae: 20.1407 - mse: 558.1039 - val_loss: 19.2028 - val_mae: 19.2028 - val_mse: 516.8401\n",
            "Epoch 153/200\n",
            "250/250 [==============================] - 0s 1ms/step - loss: 20.1414 - mae: 20.1414 - mse: 558.5692 - val_loss: 19.2197 - val_mae: 19.2197 - val_mse: 516.1132\n",
            "Epoch 154/200\n",
            "250/250 [==============================] - 0s 1ms/step - loss: 20.1376 - mae: 20.1376 - mse: 558.0228 - val_loss: 19.2051 - val_mae: 19.2051 - val_mse: 516.1656\n",
            "Epoch 155/200\n",
            "250/250 [==============================] - 0s 1ms/step - loss: 20.1355 - mae: 20.1355 - mse: 558.1621 - val_loss: 19.2104 - val_mae: 19.2104 - val_mse: 515.8861\n",
            "Epoch 156/200\n",
            "250/250 [==============================] - 0s 1ms/step - loss: 20.1325 - mae: 20.1325 - mse: 557.7352 - val_loss: 19.2009 - val_mae: 19.2009 - val_mse: 515.9014\n",
            "Epoch 157/200\n",
            "250/250 [==============================] - 0s 1ms/step - loss: 20.1312 - mae: 20.1312 - mse: 557.6806 - val_loss: 19.2027 - val_mae: 19.2027 - val_mse: 515.6811\n",
            "Epoch 158/200\n",
            "250/250 [==============================] - 0s 1ms/step - loss: 20.1271 - mae: 20.1271 - mse: 557.7254 - val_loss: 19.1997 - val_mae: 19.1997 - val_mse: 515.5679\n",
            "Epoch 159/200\n",
            "250/250 [==============================] - 0s 1ms/step - loss: 20.1260 - mae: 20.1260 - mse: 557.4193 - val_loss: 19.1930 - val_mae: 19.1930 - val_mse: 515.5602\n",
            "Epoch 160/200\n",
            "250/250 [==============================] - 0s 1ms/step - loss: 20.1232 - mae: 20.1232 - mse: 557.3939 - val_loss: 19.1928 - val_mae: 19.1928 - val_mse: 515.3739\n",
            "Epoch 161/200\n",
            "250/250 [==============================] - 0s 1ms/step - loss: 20.1232 - mae: 20.1232 - mse: 557.4541 - val_loss: 19.1943 - val_mae: 19.1943 - val_mse: 515.1738\n",
            "Epoch 162/200\n",
            "250/250 [==============================] - 0s 1ms/step - loss: 20.1162 - mae: 20.1162 - mse: 557.0565 - val_loss: 19.1948 - val_mae: 19.1948 - val_mse: 515.0165\n",
            "Epoch 163/200\n",
            "250/250 [==============================] - 0s 1ms/step - loss: 20.1148 - mae: 20.1148 - mse: 556.9396 - val_loss: 19.2043 - val_mae: 19.2043 - val_mse: 514.9087\n",
            "Epoch 164/200\n",
            "250/250 [==============================] - 0s 1ms/step - loss: 20.1131 - mae: 20.1131 - mse: 556.7242 - val_loss: 19.1802 - val_mae: 19.1802 - val_mse: 514.9844\n",
            "Epoch 165/200\n",
            "250/250 [==============================] - 0s 1ms/step - loss: 20.1119 - mae: 20.1119 - mse: 556.7332 - val_loss: 19.1837 - val_mae: 19.1837 - val_mse: 514.6932\n",
            "Epoch 166/200\n",
            "250/250 [==============================] - 0s 1ms/step - loss: 20.1074 - mae: 20.1074 - mse: 556.4169 - val_loss: 19.1672 - val_mae: 19.1672 - val_mse: 515.4548\n",
            "Epoch 167/200\n",
            "250/250 [==============================] - 0s 1ms/step - loss: 20.1060 - mae: 20.1060 - mse: 556.5208 - val_loss: 19.1657 - val_mae: 19.1657 - val_mse: 515.1990\n",
            "Epoch 168/200\n",
            "250/250 [==============================] - 0s 1ms/step - loss: 20.0995 - mae: 20.0995 - mse: 556.8517 - val_loss: 19.1941 - val_mae: 19.1941 - val_mse: 514.2996\n",
            "Epoch 169/200\n",
            "250/250 [==============================] - 0s 1ms/step - loss: 20.1007 - mae: 20.1007 - mse: 555.9652 - val_loss: 19.1685 - val_mae: 19.1685 - val_mse: 514.3603\n",
            "Epoch 170/200\n",
            "250/250 [==============================] - 0s 1ms/step - loss: 20.0984 - mae: 20.0984 - mse: 556.0149 - val_loss: 19.1639 - val_mae: 19.1639 - val_mse: 514.3450\n",
            "Epoch 171/200\n",
            "250/250 [==============================] - 0s 1ms/step - loss: 20.0954 - mae: 20.0954 - mse: 555.9343 - val_loss: 19.1687 - val_mae: 19.1687 - val_mse: 513.9572\n",
            "Epoch 172/200\n",
            "250/250 [==============================] - 0s 1ms/step - loss: 20.0937 - mae: 20.0937 - mse: 555.7094 - val_loss: 19.1728 - val_mae: 19.1728 - val_mse: 513.7496\n",
            "Epoch 173/200\n",
            "250/250 [==============================] - 0s 1ms/step - loss: 20.0912 - mae: 20.0912 - mse: 555.5629 - val_loss: 19.1625 - val_mae: 19.1625 - val_mse: 513.7422\n",
            "Epoch 174/200\n",
            "250/250 [==============================] - 0s 1ms/step - loss: 20.0875 - mae: 20.0875 - mse: 555.4074 - val_loss: 19.1575 - val_mae: 19.1575 - val_mse: 513.7000\n",
            "Epoch 175/200\n",
            "250/250 [==============================] - 0s 1ms/step - loss: 20.0870 - mae: 20.0870 - mse: 555.6334 - val_loss: 19.1569 - val_mae: 19.1569 - val_mse: 513.5155\n",
            "Epoch 176/200\n",
            "250/250 [==============================] - 0s 1ms/step - loss: 20.0833 - mae: 20.0833 - mse: 555.2599 - val_loss: 19.1740 - val_mae: 19.1740 - val_mse: 513.2841\n",
            "Epoch 177/200\n",
            "250/250 [==============================] - 0s 1ms/step - loss: 20.0773 - mae: 20.0773 - mse: 554.6143 - val_loss: 19.1427 - val_mae: 19.1427 - val_mse: 513.8829\n",
            "Epoch 178/200\n",
            "250/250 [==============================] - 0s 1ms/step - loss: 20.0808 - mae: 20.0808 - mse: 555.0132 - val_loss: 19.1396 - val_mae: 19.1396 - val_mse: 513.8549\n",
            "Epoch 179/200\n",
            "250/250 [==============================] - 0s 1ms/step - loss: 20.0775 - mae: 20.0775 - mse: 555.3888 - val_loss: 19.1507 - val_mae: 19.1507 - val_mse: 512.9478\n",
            "Epoch 180/200\n",
            "250/250 [==============================] - 0s 1ms/step - loss: 20.0741 - mae: 20.0741 - mse: 554.5787 - val_loss: 19.1462 - val_mae: 19.1462 - val_mse: 512.8770\n",
            "Epoch 181/200\n",
            "250/250 [==============================] - 0s 1ms/step - loss: 20.0718 - mae: 20.0718 - mse: 554.6410 - val_loss: 19.1473 - val_mae: 19.1473 - val_mse: 512.6801\n",
            "Epoch 182/200\n",
            "250/250 [==============================] - 0s 1ms/step - loss: 20.0702 - mae: 20.0702 - mse: 554.3511 - val_loss: 19.1448 - val_mae: 19.1448 - val_mse: 512.5600\n",
            "Epoch 183/200\n",
            "250/250 [==============================] - 0s 1ms/step - loss: 20.0682 - mae: 20.0682 - mse: 554.1833 - val_loss: 19.1330 - val_mae: 19.1330 - val_mse: 512.7672\n",
            "Epoch 184/200\n",
            "250/250 [==============================] - 0s 1ms/step - loss: 20.0618 - mae: 20.0618 - mse: 554.1863 - val_loss: 19.1436 - val_mae: 19.1436 - val_mse: 512.2701\n",
            "Epoch 185/200\n",
            "250/250 [==============================] - 0s 1ms/step - loss: 20.0609 - mae: 20.0609 - mse: 553.8384 - val_loss: 19.1370 - val_mae: 19.1370 - val_mse: 512.1959\n",
            "Epoch 186/200\n",
            "250/250 [==============================] - 0s 1ms/step - loss: 20.0600 - mae: 20.0600 - mse: 553.8844 - val_loss: 19.1298 - val_mae: 19.1298 - val_mse: 512.2009\n",
            "Epoch 187/200\n",
            "250/250 [==============================] - 0s 1ms/step - loss: 20.0597 - mae: 20.0597 - mse: 553.7194 - val_loss: 19.1235 - val_mae: 19.1235 - val_mse: 512.2718\n",
            "Epoch 188/200\n",
            "250/250 [==============================] - 0s 980us/step - loss: 20.0559 - mae: 20.0559 - mse: 553.5369 - val_loss: 19.1243 - val_mae: 19.1243 - val_mse: 511.9865\n",
            "Epoch 189/200\n",
            "250/250 [==============================] - 0s 1ms/step - loss: 20.0515 - mae: 20.0515 - mse: 553.5989 - val_loss: 19.1326 - val_mae: 19.1326 - val_mse: 511.6430\n",
            "Epoch 190/200\n",
            "250/250 [==============================] - 0s 1ms/step - loss: 20.0503 - mae: 20.0503 - mse: 553.2421 - val_loss: 19.1210 - val_mae: 19.1210 - val_mse: 511.6959\n",
            "Epoch 191/200\n",
            "250/250 [==============================] - 0s 1ms/step - loss: 20.0489 - mae: 20.0489 - mse: 553.3489 - val_loss: 19.1187 - val_mae: 19.1187 - val_mse: 511.5710\n",
            "Epoch 192/200\n",
            "250/250 [==============================] - 0s 1ms/step - loss: 20.0481 - mae: 20.0481 - mse: 553.6046 - val_loss: 19.1163 - val_mae: 19.1163 - val_mse: 511.4547\n",
            "Epoch 193/200\n",
            "250/250 [==============================] - 0s 1ms/step - loss: 20.0400 - mae: 20.0400 - mse: 552.5683 - val_loss: 19.1106 - val_mae: 19.1106 - val_mse: 511.4825\n",
            "Epoch 194/200\n",
            "250/250 [==============================] - 0s 1ms/step - loss: 20.0387 - mae: 20.0387 - mse: 553.0518 - val_loss: 19.1145 - val_mae: 19.1145 - val_mse: 511.1250\n",
            "Epoch 195/200\n",
            "250/250 [==============================] - 0s 1ms/step - loss: 20.0394 - mae: 20.0394 - mse: 552.6243 - val_loss: 19.1108 - val_mae: 19.1108 - val_mse: 511.0399\n",
            "Epoch 196/200\n",
            "250/250 [==============================] - 0s 1ms/step - loss: 20.0352 - mae: 20.0352 - mse: 552.3792 - val_loss: 19.1051 - val_mae: 19.1051 - val_mse: 511.0491\n",
            "Epoch 197/200\n",
            "250/250 [==============================] - 0s 951us/step - loss: 20.0329 - mae: 20.0329 - mse: 552.7880 - val_loss: 19.1139 - val_mae: 19.1139 - val_mse: 510.6682\n",
            "Epoch 198/200\n",
            "250/250 [==============================] - 0s 1ms/step - loss: 20.0299 - mae: 20.0299 - mse: 552.1689 - val_loss: 19.1006 - val_mae: 19.1006 - val_mse: 510.8001\n",
            "Epoch 199/200\n",
            "250/250 [==============================] - 0s 1ms/step - loss: 20.0264 - mae: 20.0264 - mse: 552.3033 - val_loss: 19.1069 - val_mae: 19.1069 - val_mse: 510.4482\n",
            "Epoch 200/200\n",
            "250/250 [==============================] - 0s 976us/step - loss: 20.0260 - mae: 20.0260 - mse: 551.9662 - val_loss: 19.0903 - val_mae: 19.0903 - val_mse: 510.9465\n"
          ],
          "name": "stdout"
        }
      ]
    },
    {
      "cell_type": "code",
      "metadata": {
        "colab": {
          "base_uri": "https://localhost:8080/"
        },
        "id": "CFhe8b99tGXm",
        "outputId": "fbc82a09-b292-434a-a5f0-c660324bb135"
      },
      "source": [
        "print(history.history['loss'])\n",
        "\n"
      ],
      "execution_count": 26,
      "outputs": [
        {
          "output_type": "stream",
          "text": [
            "[173.6597442626953, 156.8208770751953, 139.97889709472656, 123.13890838623047, 106.30060577392578, 89.46101379394531, 72.6353530883789, 55.936092376708984, 40.555572509765625, 29.586429595947266, 24.03727149963379, 21.820646286010742, 20.942861557006836, 20.60930824279785, 20.499540328979492, 20.47417449951172, 20.466934204101562, 20.462841033935547, 20.462873458862305, 20.46205711364746, 20.459814071655273, 20.45917320251465, 20.458057403564453, 20.45966148376465, 20.455488204956055, 20.451730728149414, 20.449462890625, 20.446828842163086, 20.44644546508789, 20.4436092376709, 20.441280364990234, 20.439834594726562, 20.435531616210938, 20.4381160736084, 20.432968139648438, 20.428316116333008, 20.42555046081543, 20.423059463500977, 20.42584228515625, 20.42046546936035, 20.41542625427246, 20.417695999145508, 20.41519546508789, 20.408348083496094, 20.415042877197266, 20.405912399291992, 20.404308319091797, 20.402772903442383, 20.39886474609375, 20.394630432128906, 20.392454147338867, 20.39112663269043, 20.387033462524414, 20.3853816986084, 20.383319854736328, 20.379554748535156, 20.377450942993164, 20.377025604248047, 20.374391555786133, 20.36968421936035, 20.366941452026367, 20.36555290222168, 20.362524032592773, 20.359798431396484, 20.35735511779785, 20.355812072753906, 20.352907180786133, 20.350923538208008, 20.348173141479492, 20.342945098876953, 20.341323852539062, 20.341346740722656, 20.337129592895508, 20.3360538482666, 20.332807540893555, 20.330551147460938, 20.329938888549805, 20.32691192626953, 20.32280921936035, 20.319334030151367, 20.314977645874023, 20.313268661499023, 20.315996170043945, 20.311147689819336, 20.308530807495117, 20.305810928344727, 20.303964614868164, 20.30078125, 20.297943115234375, 20.296598434448242, 20.29192352294922, 20.291780471801758, 20.288660049438477, 20.28504180908203, 20.28413200378418, 20.280054092407227, 20.27817726135254, 20.2763729095459, 20.274404525756836, 20.270782470703125, 20.270082473754883, 20.267894744873047, 20.26499366760254, 20.264812469482422, 20.25896644592285, 20.253389358520508, 20.253530502319336, 20.24992561340332, 20.25011444091797, 20.247356414794922, 20.243854522705078, 20.23981285095215, 20.241043090820312, 20.236984252929688, 20.23272705078125, 20.231813430786133, 20.230342864990234, 20.227449417114258, 20.225223541259766, 20.220312118530273, 20.21951675415039, 20.214691162109375, 20.214859008789062, 20.21080780029297, 20.20963478088379, 20.210065841674805, 20.20480728149414, 20.201398849487305, 20.20008087158203, 20.197956085205078, 20.193830490112305, 20.192745208740234, 20.189289093017578, 20.188274383544922, 20.18816375732422, 20.18256378173828, 20.178983688354492, 20.175003051757812, 20.17740821838379, 20.172590255737305, 20.168842315673828, 20.166715621948242, 20.161046981811523, 20.164291381835938, 20.15909194946289, 20.15781021118164, 20.15452766418457, 20.152605056762695, 20.15127182006836, 20.14771270751953, 20.146507263183594, 20.140727996826172, 20.141359329223633, 20.137557983398438, 20.135480880737305, 20.132490158081055, 20.13119888305664, 20.127099990844727, 20.125959396362305, 20.123226165771484, 20.1231746673584, 20.11615562438965, 20.11479949951172, 20.113069534301758, 20.11194610595703, 20.10742950439453, 20.106002807617188, 20.099498748779297, 20.10072135925293, 20.0983943939209, 20.095430374145508, 20.09372329711914, 20.091163635253906, 20.087512969970703, 20.086965560913086, 20.083271026611328, 20.077342987060547, 20.080785751342773, 20.07748031616211, 20.07411003112793, 20.071800231933594, 20.070226669311523, 20.068204879760742, 20.06184196472168, 20.060937881469727, 20.06004524230957, 20.05974769592285, 20.055850982666016, 20.05147933959961, 20.050323486328125, 20.048871994018555, 20.048065185546875, 20.040016174316406, 20.038728713989258, 20.03938865661621, 20.035192489624023, 20.032934188842773, 20.029895782470703, 20.026391983032227, 20.025991439819336]\n"
          ],
          "name": "stdout"
        }
      ]
    },
    {
      "cell_type": "code",
      "metadata": {
        "colab": {
          "base_uri": "https://localhost:8080/",
          "height": 809
        },
        "id": "EZG0-gfUq7p9",
        "outputId": "1ac6e831-2181-4d85-ded2-133442d01128"
      },
      "source": [
        "import matplotlib.pyplot as plt\n",
        "def curvePlots(a):\n",
        "  plt.plot(history.history[a])\n",
        "  plt.plot(history.history[f'val_{a}'] )\n",
        "  plt.legend([a,f'val_{a}'])\n",
        "  plt.xlabel('Numpochs')\n",
        "  plt.ylabel(a)\n",
        "  plt.show()\n",
        "\n",
        "\n",
        "curvePlots('loss')\n",
        "curvePlots('mae')\n",
        "curvePlots('mse')\n",
        "\n"
      ],
      "execution_count": 29,
      "outputs": [
        {
          "output_type": "display_data",
          "data": {
            "image/png": "[encoded data removed]",
            "text/plain": [
              "<Figure size 432x288 with 1 Axes>"
            ]
          },
          "metadata": {
            "tags": [],
            "needs_background": "light"
          }
        },
        {
          "output_type": "display_data",
          "data": {
            "image/png": "[encoded data removed]",
            "text/plain": [
              "<Figure size 432x288 with 1 Axes>"
            ]
          },
          "metadata": {
            "tags": [],
            "needs_background": "light"
          }
        },
        {
          "output_type": "display_data",
          "data": {
            "image/png": "[encoded data removed]",
            "text/plain": [
              "<Figure size 432x288 with 1 Axes>"
            ]
          },
          "metadata": {
            "tags": [],
            "needs_background": "light"
          }
        }
      ]
    }
  ]
}